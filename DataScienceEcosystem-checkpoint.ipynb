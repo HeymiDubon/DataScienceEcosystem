{
 "cells": [
  {
   "cell_type": "markdown",
   "id": "7bf37187-6540-4841-9d0d-8540d421b33b",
   "metadata": {},
   "source": [
    "# Data Science Tools and Ecosystem"
   ]
  },
  {
   "cell_type": "markdown",
   "id": "a7fd9369-2012-4071-a618-b03b6eccf72b",
   "metadata": {},
   "source": [
    "In this notebook, Data Science Tools and Ecosystem are summarized."
   ]
  },
  {
   "cell_type": "markdown",
   "id": "b813a903-b334-4166-85e2-dc071cb93373",
   "metadata": {},
   "source": [
    "Some of the popular languages that Data Scientists use are:\n",
    "1. **Python**\n",
    "2. **R**\n",
    "3. **SQL**\n"
   ]
  },
  {
   "cell_type": "markdown",
   "id": "f0233349-4d0a-4101-bef7-d8ecdccfe24f",
   "metadata": {},
   "source": [
    "Some of the commonly used libraries used by Data Scientists include:\n",
    "1. **Python**\n",
    "2. **R**\n",
    "3. **SQL**\n",
    "\n",
    "---\n",
    "\n",
    "1. **Pandas**\n",
    "2. **NumPy**\n",
    "3. **Scikit-learn**\n"
   ]
  },
  {
   "cell_type": "markdown",
   "id": "65357a24-7c55-4de7-895a-0306475d48bd",
   "metadata": {},
   "source": [
    "| Data Science Tools       |\n",
    "|--------------------------|\n",
    "| Jupyter Notebook         |\n",
    "| RStudio                  |\n",
    "| Apache Zeppelin          |\n"
   ]
  },
  {
   "cell_type": "markdown",
   "id": "4861ebde-c2ec-4dbd-adea-0869d97f459f",
   "metadata": {},
   "source": [
    "### Below are a few examples of evaluating arithmetic expressions in Python\n"
   ]
  },
  {
   "cell_type": "markdown",
   "id": "39305144-7920-4ec7-8554-de16712e5750",
   "metadata": {},
   "source": [
    "This a simple arithmetic expression to mutiply then add integers\n",
    "(3*4)+5"
   ]
  },
  {
   "cell_type": "code",
   "execution_count": 1,
   "id": "6e6971a8-9c44-4aff-b9b3-9c96ded150e6",
   "metadata": {},
   "outputs": [
    {
     "data": {
      "text/plain": [
       "17"
      ]
     },
     "execution_count": 1,
     "metadata": {},
     "output_type": "execute_result"
    }
   ],
   "source": [
    "(3*4)+5\n"
   ]
  },
  {
   "cell_type": "code",
   "execution_count": 2,
   "id": "d9087be3-729e-4b50-9491-3e9c57377562",
   "metadata": {},
   "outputs": [
    {
     "data": {
      "text/plain": [
       "3.3333333333333335"
      ]
     },
     "execution_count": 2,
     "metadata": {},
     "output_type": "execute_result"
    }
   ],
   "source": [
    "# This will convert 200 minutes to hours by dividing by 60\n",
    "hours = 200 / 60\n",
    "hours\n"
   ]
  },
  {
   "cell_type": "markdown",
   "id": "86a1b7f1-0caa-4257-9de2-9a906e3c4787",
   "metadata": {},
   "source": [
    "**Objectives:**\n",
    "\n",
    "- List popular languages for Data Science\n",
    "- Identify common libraries used in Data Science\n",
    "- Convert time units from minutes to hours\n",
    "- Create Markdown tables for Data Science tools\n",
    "- Understand basic Python operations\n"
   ]
  },
  {
   "cell_type": "markdown",
   "id": "e5d6fb33-8b56-4f91-a39d-8063ff140a0e",
   "metadata": {},
   "source": [
    "## Author\n",
    "\n",
    "Heymi Berenice Dubon\n"
   ]
  },
  {
   "cell_type": "code",
   "execution_count": null,
   "id": "fd8ba250-211c-42d1-ad28-212d98386588",
   "metadata": {},
   "outputs": [],
   "source": []
  }
 ],
 "metadata": {
  "kernelspec": {
   "display_name": "Python 3 (ipykernel)",
   "language": "python",
   "name": "python3"
  },
  "language_info": {
   "codemirror_mode": {
    "name": "ipython",
    "version": 3
   },
   "file_extension": ".py",
   "mimetype": "text/x-python",
   "name": "python",
   "nbconvert_exporter": "python",
   "pygments_lexer": "ipython3",
   "version": "3.12.4"
  }
 },
 "nbformat": 4,
 "nbformat_minor": 5
}
